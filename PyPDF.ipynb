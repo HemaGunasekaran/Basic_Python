{
  "nbformat": 4,
  "nbformat_minor": 0,
  "metadata": {
    "colab": {
      "provenance": [],
      "authorship_tag": "ABX9TyOjebz2K75Nn4oV/NzEO8Bs",
      "include_colab_link": true
    },
    "kernelspec": {
      "name": "python3",
      "display_name": "Python 3"
    },
    "language_info": {
      "name": "python"
    }
  },
  "cells": [
    {
      "cell_type": "markdown",
      "metadata": {
        "id": "view-in-github",
        "colab_type": "text"
      },
      "source": [
        "<a href=\"https://colab.research.google.com/github/HemaGunasekaran/Basic_Python/blob/master/PyPDF.ipynb\" target=\"_parent\"><img src=\"https://colab.research.google.com/assets/colab-badge.svg\" alt=\"Open In Colab\"/></a>"
      ]
    },
    {
      "cell_type": "code",
      "execution_count": 2,
      "metadata": {
        "id": "sN0IU-O07tdW",
        "colab": {
          "base_uri": "https://localhost:8080/"
        },
        "outputId": "d80c55be-085e-4567-f5ae-0582e0d0a4a7"
      },
      "outputs": [
        {
          "output_type": "stream",
          "name": "stdout",
          "text": [
            "Requirement already satisfied: PyPDF2 in /usr/local/lib/python3.10/dist-packages (3.0.1)\n"
          ]
        }
      ],
      "source": [
        "!pip install PyPDF2"
      ]
    },
    {
      "cell_type": "code",
      "source": [
        "import PyPDF2\n"
      ],
      "metadata": {
        "id": "46QWIadlHGaE"
      },
      "execution_count": 3,
      "outputs": []
    },
    {
      "cell_type": "code",
      "source": [
        "reader = PyPDF2.PdfReader('/content/sample_data/Invoicesample.pdf')\n",
        "print(len(reader.pages))\n",
        "print(reader.pages[0].extract_text())\n"
      ],
      "metadata": {
        "colab": {
          "base_uri": "https://localhost:8080/"
        },
        "id": "Tab3LtDLHXo8",
        "outputId": "eab618c3-00c8-4db9-a589-d708991d1672"
      },
      "execution_count": 7,
      "outputs": [
        {
          "output_type": "stream",
          "name": "stdout",
          "text": [
            "2\n",
            "SALES INVOICE TEMPLATE\n",
            "DATE\n",
            "INVOICE NO.\n",
            "CUSTOMER ID\n",
            "BILL TO SHIP TO SALESPERSON P.O. NO.\n",
            "FOB SHIP DATE\n",
            "TERMS SHIP VIA\n",
            "ITEM NO. DESCRIPTION QTY UNIT PRICE TOTAL\n",
            "Remarks / Instructions: SUBTOTAL\n",
            "enter total amount   DISCOUNT\n",
            "SUBTOTAL LESS DISCOUNT\n",
            "enter percentage   TAX RATE\n",
            "TOTAL TAX\n",
            "SHIPPING/HANDLING\n",
            "OTHER\n",
            "TOTAL SALES INVOICE\n",
            "For questions concerning this invoice, please contactRemit payment within 30 days of date of invoice. \n",
            "THANK YOUPlease make check payable to \n",
            "\n"
          ]
        }
      ]
    },
    {
      "cell_type": "code",
      "source": [],
      "metadata": {
        "id": "UU1-T72aIHPQ"
      },
      "execution_count": null,
      "outputs": []
    }
  ]
}